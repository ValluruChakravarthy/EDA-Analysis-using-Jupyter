{
  "nbformat": 4,
  "nbformat_minor": 0,
  "metadata": {
    "colab": {
      "provenance": []
    },
    "kernelspec": {
      "name": "python3",
      "display_name": "Python 3"
    },
    "language_info": {
      "name": "python"
    }
  },
  "cells": [
    {
      "cell_type": "markdown",
      "source": [
        "                                                    **EDA ANALYSIS USING STEAM DATA**\n",
        "\n",
        "\n",
        "\n",
        "\n"
      ],
      "metadata": {
        "id": "i9wvhOwMEg6y"
      }
    },
    {
      "cell_type": "markdown",
      "source": [
        "---\n"
      ],
      "metadata": {
        "id": "-RaslJdOEzgS"
      }
    },
    {
      "cell_type": "markdown",
      "source": [
        "Link to the original data set of raw data (156MB)"
      ],
      "metadata": {
        "id": "KvyrUIOuE0qe"
      }
    },
    {
      "cell_type": "code",
      "execution_count": null,
      "metadata": {
        "id": "Q4kvc6HNDtOb"
      },
      "outputs": [],
      "source": [
        "#https://www.kaggle.com/datasets/mohamedtarek01234/steam-games-reviews-and-rankings?resource=download"
      ]
    },
    {
      "cell_type": "markdown",
      "source": [
        "Importing Pandas ,Seaborn"
      ],
      "metadata": {
        "id": "RvFk7ixKFAnz"
      }
    },
    {
      "cell_type": "code",
      "source": [
        "import pandas as pd\n",
        "import seaborn as sns\n",
        "import pandas as pd\n",
        "import time\n",
        "import pandas as pd\n",
        "\n",
        "# Import necessary libraries\n",
        "import pandas as pd\n",
        "import matplotlib.pyplot as plt\n",
        "import seaborn as sns\n",
        "\n",
        "# Set the aesthetics for seaborn\n",
        "sns.set(style='whitegrid')\n",
        "\n",
        "# Load the CSV file\n",
        "try:\n",
        "    df = pd.read_csv(\"steam_data.csv\", on_bad_lines='skip')\n",
        "except Exception as e:\n",
        "    print(\"Error reading the CSV file:\", e)\n",
        "\n",
        "# Display the first few rows of the DataFrame\n",
        "print(\"First 5 rows of the dataset:\")\n",
        "print(df.head())\n",
        "\n",
        "# Display basic information about the DataFrame\n",
        "print(\"\\nBasic Information:\")\n",
        "print(df.info())\n",
        "\n",
        "# Check for missing values\n",
        "print(\"\\nMissing Values:\")\n",
        "print(df.isnull().sum())\n",
        "\n",
        "# Descriptive statistics\n",
        "print(\"\\nDescriptive Statistics:\")\n",
        "print(df.describe())\n",
        "\n",
        "# Data visualization example 1: Distribution of a specific column (replace 'ColumnName' with an actual column name)\n",
        "plt.figure(figsize=(10, 6))\n",
        "sns.histplot(df['ColumnName'], bins=30, kde=True)  # Adjust 'ColumnName' to a relevant column in your dataset\n",
        "plt.title('Distribution of ColumnName')\n",
        "plt.xlabel('ColumnName')\n",
        "plt.ylabel('Frequency')\n",
        "plt.show()\n",
        "\n",
        "# Data visualization example 2: Correlation heatmap\n",
        "plt.figure(figsize=(12, 8))\n",
        "correlation_matrix = df.corr()\n",
        "sns.heatmap(correlation_matrix, annot=True, cmap='coolwarm', fmt='.2f')\n",
        "plt.title('Correlation Heatmap')\n",
        "plt.show()\n",
        "\n",
        "# Data visualization example 3: Bar plot of categorical data (replace 'CategoryColumn' with an actual column name)\n",
        "plt.figure(figsize=(12, 6))\n",
        "sns.countplot(data=df, x='CategoryColumn')  # Replace 'CategoryColumn' with a relevant categorical column\n",
        "plt.title('Count of CategoryColumn')\n",
        "plt.xticks(rotation=45)\n",
        "plt.show()"
      ],
      "metadata": {
        "colab": {
          "base_uri": "https://localhost:8080/",
          "height": 408
        },
        "id": "_qXnYAGbEs1a",
        "outputId": "8b8f5546-d88c-4d48-e6ab-3a3099009fc1"
      },
      "execution_count": null,
      "outputs": [
        {
          "output_type": "stream",
          "name": "stdout",
          "text": [
            "Error reading the CSV file: module 'pandas.io.common' has no attribute 'csv'\n"
          ]
        },
        {
          "output_type": "error",
          "ename": "AttributeNotImplementedError",
          "evalue": "Checking whether a Dask DataFrame has any rows may be expensive. However, checking the number of columns is fast. Depending on which of these results you need, use either `len(df.index) == 0` or `len(df.columns) == 0`",
          "traceback": [
            "\u001b[0;31m---------------------------------------------------------------------------\u001b[0m",
            "\u001b[0;31mAttributeNotImplementedError\u001b[0m              Traceback (most recent call last)",
            "\u001b[0;32m<ipython-input-42-9711d7ce1763>\u001b[0m in \u001b[0;36m<cell line: 12>\u001b[0;34m()\u001b[0m\n\u001b[1;32m     10\u001b[0m \u001b[0;34m\u001b[0m\u001b[0m\n\u001b[1;32m     11\u001b[0m \u001b[0;31m# Check if the DataFrame is empty before proceeding\u001b[0m\u001b[0;34m\u001b[0m\u001b[0;34m\u001b[0m\u001b[0m\n\u001b[0;32m---> 12\u001b[0;31m \u001b[0;32mif\u001b[0m \u001b[0;34m'df'\u001b[0m \u001b[0;32min\u001b[0m \u001b[0mlocals\u001b[0m\u001b[0;34m(\u001b[0m\u001b[0;34m)\u001b[0m \u001b[0;32mand\u001b[0m \u001b[0;32mnot\u001b[0m \u001b[0mdf\u001b[0m\u001b[0;34m.\u001b[0m\u001b[0mempty\u001b[0m\u001b[0;34m:\u001b[0m\u001b[0;34m\u001b[0m\u001b[0;34m\u001b[0m\u001b[0m\n\u001b[0m\u001b[1;32m     13\u001b[0m     \u001b[0;31m# Display the first few rows of the DataFrame\u001b[0m\u001b[0;34m\u001b[0m\u001b[0;34m\u001b[0m\u001b[0m\n\u001b[1;32m     14\u001b[0m     \u001b[0mprint\u001b[0m\u001b[0;34m(\u001b[0m\u001b[0;34m\"First 5 rows of the dataset:\"\u001b[0m\u001b[0;34m)\u001b[0m\u001b[0;34m\u001b[0m\u001b[0;34m\u001b[0m\u001b[0m\n",
            "\u001b[0;32m/usr/local/lib/python3.10/dist-packages/dask/dataframe/core.py\u001b[0m in \u001b[0;36m__getattr__\u001b[0;34m(self, key)\u001b[0m\n\u001b[1;32m   5042\u001b[0m             \u001b[0;31m# and uses __getattr__ as the fallback. So, get `self.empty` more\u001b[0m\u001b[0;34m\u001b[0m\u001b[0;34m\u001b[0m\u001b[0m\n\u001b[1;32m   5043\u001b[0m             \u001b[0;31m# forcefully via object.__getattribute__ to raise informative error.\u001b[0m\u001b[0;34m\u001b[0m\u001b[0;34m\u001b[0m\u001b[0m\n\u001b[0;32m-> 5044\u001b[0;31m             \u001b[0mobject\u001b[0m\u001b[0;34m.\u001b[0m\u001b[0m__getattribute__\u001b[0m\u001b[0;34m(\u001b[0m\u001b[0mself\u001b[0m\u001b[0;34m,\u001b[0m \u001b[0mkey\u001b[0m\u001b[0;34m)\u001b[0m\u001b[0;34m\u001b[0m\u001b[0;34m\u001b[0m\u001b[0m\n\u001b[0m\u001b[1;32m   5045\u001b[0m         \u001b[0;32melse\u001b[0m\u001b[0;34m:\u001b[0m\u001b[0;34m\u001b[0m\u001b[0;34m\u001b[0m\u001b[0m\n\u001b[1;32m   5046\u001b[0m             \u001b[0;32mraise\u001b[0m \u001b[0mAttributeError\u001b[0m\u001b[0;34m(\u001b[0m\u001b[0;34m\"'DataFrame' object has no attribute %r\"\u001b[0m \u001b[0;34m%\u001b[0m \u001b[0mkey\u001b[0m\u001b[0;34m)\u001b[0m\u001b[0;34m\u001b[0m\u001b[0;34m\u001b[0m\u001b[0m\n",
            "\u001b[0;32m/usr/local/lib/python3.10/dist-packages/dask/dataframe/core.py\u001b[0m in \u001b[0;36mempty\u001b[0;34m(self)\u001b[0m\n\u001b[1;32m   4927\u001b[0m     \u001b[0;32mdef\u001b[0m \u001b[0mempty\u001b[0m\u001b[0;34m(\u001b[0m\u001b[0mself\u001b[0m\u001b[0;34m)\u001b[0m\u001b[0;34m:\u001b[0m\u001b[0;34m\u001b[0m\u001b[0;34m\u001b[0m\u001b[0m\n\u001b[1;32m   4928\u001b[0m         \u001b[0;31m# __getattr__ will be called after we raise this, so we'll raise it again from there\u001b[0m\u001b[0;34m\u001b[0m\u001b[0;34m\u001b[0m\u001b[0m\n\u001b[0;32m-> 4929\u001b[0;31m         raise AttributeNotImplementedError(\n\u001b[0m\u001b[1;32m   4930\u001b[0m             \u001b[0;34m\"Checking whether a Dask DataFrame has any rows may be expensive. \"\u001b[0m\u001b[0;34m\u001b[0m\u001b[0;34m\u001b[0m\u001b[0m\n\u001b[1;32m   4931\u001b[0m             \u001b[0;34m\"However, checking the number of columns is fast. \"\u001b[0m\u001b[0;34m\u001b[0m\u001b[0;34m\u001b[0m\u001b[0m\n",
            "\u001b[0;31mAttributeNotImplementedError\u001b[0m: Checking whether a Dask DataFrame has any rows may be expensive. However, checking the number of columns is fast. Depending on which of these results you need, use either `len(df.index) == 0` or `len(df.columns) == 0`"
          ]
        }
      ]
    }
  ]
}